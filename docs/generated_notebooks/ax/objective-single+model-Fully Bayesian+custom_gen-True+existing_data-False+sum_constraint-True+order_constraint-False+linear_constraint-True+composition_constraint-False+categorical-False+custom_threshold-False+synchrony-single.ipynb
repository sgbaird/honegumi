{
 "cells": [
  {
   "cell_type": "markdown",
   "id": "6a6a58f9",
   "metadata": {},
   "source": [
    "<a href=\"https://colab.research.google.com/github/sgbaird/honegumi/blob/main/docs/generated_notebooks/ax/objective-single%2Bmodel-Fully%20Bayesian%2Bcustom_gen-True%2Bexisting_data-False%2Bsum_constraint-True%2Border_constraint-False%2Blinear_constraint-True%2Bcomposition_constraint-False%2Bcategorical-False%2Bcustom_threshold-False%2Bsynchrony-single.ipynb\"><img alt=\"Open In Colab\" src=\"https://colab.research.google.com/assets/colab-badge.svg\"></a>"
   ]
  },
  {
   "cell_type": "code",
   "execution_count": null,
   "id": "eab0c501",
   "metadata": {},
   "outputs": [],
   "source": [
    "%pip install ax-platform"
   ]
  },
  {
   "cell_type": "code",
   "execution_count": null,
   "id": "eb8c571e",
   "metadata": {},
   "outputs": [],
   "source": [
    "import numpy as np\n",
    "from ax.service.ax_client import AxClient, ObjectiveProperties\n",
    "\n",
    "from ax.modelbridge.factory import Models\n",
    "from ax.modelbridge.generation_strategy import GenerationStep, GenerationStrategy\n",
    "\n",
    "\n",
    "obj1_name = \"branin\"\n",
    "\n",
    "\n",
    "def branin(x1, x2):\n",
    "    y = float(\n",
    "        (x2 - 5.1 / (4 * np.pi**2) * x1**2 + 5.0 / np.pi * x1 - 6.0) ** 2\n",
    "        + 10 * (1 - 1.0 / (8 * np.pi)) * np.cos(x1)\n",
    "        + 10\n",
    "    )\n",
    "\n",
    "    return y\n",
    "\n",
    "\n",
    "gs = GenerationStrategy(\n",
    "    steps=[\n",
    "        GenerationStep(\n",
    "            model=Models.SOBOL,\n",
    "            num_trials=4,  # https://github.com/facebook/Ax/issues/922\n",
    "            min_trials_observed=3,\n",
    "            max_parallelism=5,\n",
    "            model_kwargs={\"seed\": 999},\n",
    "            model_gen_kwargs={},\n",
    "        ),\n",
    "        GenerationStep(\n",
    "            model=Models.FULLYBAYESIAN,\n",
    "            num_trials=-1,\n",
    "            max_parallelism=3,\n",
    "            model_kwargs={},\n",
    "        ),\n",
    "    ]\n",
    ")\n",
    "\n",
    "ax_client = AxClient(generation_strategy=gs)\n",
    "\n",
    "ax_client.create_experiment(\n",
    "    parameters=[\n",
    "        {\"name\": \"x1\", \"type\": \"range\", \"bounds\": [-5.0, 10.0]},\n",
    "        {\"name\": \"x2\", \"type\": \"range\", \"bounds\": [0.0, 10.0]},\n",
    "    ],\n",
    "    objectives={\n",
    "        obj1_name: ObjectiveProperties(minimize=True),\n",
    "    },\n",
    "    parameter_constraints=[\n",
    "        \"x1 + x2 <= 15.0\",  # example of a sum constraint\n",
    "        \"1.0*x1 + 0.5*x2 <= 15.0\",  # example of a linear constraint. Note the lack of space around the asterisks\n",
    "    ],\n",
    ")\n",
    "\n",
    "\n",
    "for _ in range(19):\n",
    "\n",
    "    parameterization, trial_index = ax_client.get_next_trial()\n",
    "\n",
    "    # extract parameters\n",
    "    x1 = parameterization[\"x1\"]\n",
    "    x2 = parameterization[\"x2\"]\n",
    "\n",
    "    results = branin(x1, x2)\n",
    "    ax_client.complete_trial(trial_index=trial_index, raw_data=results)\n",
    "\n",
    "\n",
    "best_parameters, metrics = ax_client.get_best_parameters()"
   ]
  }
 ],
 "metadata": {
  "jupytext": {
   "cell_metadata_filter": "-all",
   "main_language": "python",
   "notebook_metadata_filter": "-all"
  }
 },
 "nbformat": 4,
 "nbformat_minor": 5
}
