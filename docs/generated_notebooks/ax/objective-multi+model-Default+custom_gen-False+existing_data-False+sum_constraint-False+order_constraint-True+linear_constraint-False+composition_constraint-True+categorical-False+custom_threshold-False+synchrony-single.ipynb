{
 "cells": [
  {
   "cell_type": "markdown",
   "id": "151b9c73",
   "metadata": {},
   "source": [
    "<a href=\"https://colab.research.google.com/github/sgbaird/honegumi/blob/main/docs/generated_notebooks/ax/objective-multi%2Bmodel-Default%2Bcustom_gen-False%2Bexisting_data-False%2Bsum_constraint-False%2Border_constraint-True%2Blinear_constraint-False%2Bcomposition_constraint-True%2Bcategorical-False%2Bcustom_threshold-False%2Bsynchrony-single.ipynb\"><img alt=\"Open In Colab\" src=\"https://colab.research.google.com/assets/colab-badge.svg\"></a>"
   ]
  },
  {
   "cell_type": "code",
   "execution_count": null,
   "id": "7a56ffa2",
   "metadata": {},
   "outputs": [],
   "source": [
    "%pip install ax-platform"
   ]
  },
  {
   "cell_type": "code",
   "execution_count": null,
   "id": "0220d9bd",
   "metadata": {},
   "outputs": [],
   "source": [
    "import numpy as np\n",
    "from ax.service.ax_client import AxClient, ObjectiveProperties\n",
    "\n",
    "\n",
    "obj1_name = \"branin\"\n",
    "obj2_name = \"branin_swapped\"\n",
    "\n",
    "\n",
    "def branin3_moo(x1, x2, x3):\n",
    "    y = float(\n",
    "        (x2 - 5.1 / (4 * np.pi**2) * x1**2 + 5.0 / np.pi * x1 - 6.0) ** 2\n",
    "        + 10 * (1 - 1.0 / (8 * np.pi)) * np.cos(x1)\n",
    "        + 10\n",
    "    )\n",
    "\n",
    "    # Contrived way to incorporate x3 into the objective\n",
    "    y = y * (1 + 0.1 * x1 * x2 * x3)\n",
    "\n",
    "    # second objective has x1 and x2 swapped\n",
    "    y2 = float(\n",
    "        (x1 - 5.1 / (4 * np.pi**2) * x2**2 + 5.0 / np.pi * x2 - 6.0) ** 2\n",
    "        + 10 * (1 - 1.0 / (8 * np.pi)) * np.cos(x2)\n",
    "        + 10\n",
    "    )\n",
    "    # Contrived way to incorporate x3 into the second objective\n",
    "    y2 = y2 * (1 - 0.1 * x1 * x2 * x3)\n",
    "\n",
    "    return {obj1_name: y, obj2_name: y2}\n",
    "\n",
    "\n",
    "# Define total for compositional constraint, where x1 + x2 + x3 == total\n",
    "total = 10.0\n",
    "\n",
    "\n",
    "ax_client = AxClient()\n",
    "# note how lower bound of x1 is now 0.0 instead of -5.0, which is for the sake of illustrating a composition, where negative values wouldn't make sense\n",
    "ax_client.create_experiment(\n",
    "    parameters=[\n",
    "        {\"name\": \"x1\", \"type\": \"range\", \"bounds\": [0.0, total]},\n",
    "        {\"name\": \"x2\", \"type\": \"range\", \"bounds\": [0.0, total]},\n",
    "    ],\n",
    "    objectives={\n",
    "        obj1_name: ObjectiveProperties(minimize=True),\n",
    "        obj2_name: ObjectiveProperties(minimize=True),\n",
    "    },\n",
    "    parameter_constraints=[\n",
    "        f\"x1 + x2 <= {total}\",  # reparameterized compositional constraint, which is a type of sum constraint\n",
    "        \"x1 <= x2\",  # example of an order constraint\n",
    "    ],\n",
    ")\n",
    "\n",
    "\n",
    "for _ in range(21):\n",
    "\n",
    "    parameterization, trial_index = ax_client.get_next_trial()\n",
    "\n",
    "    # extract parameters\n",
    "    x1 = parameterization[\"x1\"]\n",
    "    x2 = parameterization[\"x2\"]\n",
    "    x3 = total - (x1 + x2)  # composition constraint: x1 + x2 + x3 == total\n",
    "\n",
    "    results = branin3_moo(x1, x2, x3)\n",
    "    ax_client.complete_trial(trial_index=trial_index, raw_data=results)\n",
    "\n",
    "pareto_results = ax_client.get_pareto_optimal_parameters()"
   ]
  }
 ],
 "metadata": {
  "jupytext": {
   "cell_metadata_filter": "-all",
   "main_language": "python",
   "notebook_metadata_filter": "-all"
  }
 },
 "nbformat": 4,
 "nbformat_minor": 5
}
