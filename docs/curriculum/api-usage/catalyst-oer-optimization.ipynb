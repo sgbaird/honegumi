{
 "cells": [
  {
   "cell_type": "markdown",
   "id": "8d771ee7",
   "metadata": {},
   "source": [
    "# Catalyst OER Efficiency Optimization with Honegumi\n",
    "\n",
    "This notebook demonstrates how to use Honegumi to optimize Oxygen Evolution Reaction (OER) catalyst composition, operating conditions, and system parameters to maximize efficiency, durability, and minimize cost."
   ]
  },
  {
   "cell_type": "markdown",
   "id": "e5db5992",
   "metadata": {},
   "source": [
    "## Setup and Configuration\n",
    "\n",
    "First, let's import the necessary libraries and configure Honegumi for our catalyst optimization task."
   ]
  },
  {
   "cell_type": "code",
   "execution_count": null,
   "id": "0b157ec5",
   "metadata": {},
   "outputs": [],
   "source": [
    "from pprint import pprint\n",
    "from honegumi.core._honegumi import Honegumi\n",
    "from honegumi.ax.utils import constants as cst\n",
    "from honegumi.ax._ax import option_rows\n",
    "import honegumi\n",
    "import os\n",
    "\n",
    "# Set up template paths\n",
    "script_template_dir = honegumi.ax.__path__[0]\n",
    "core_template_dir = honegumi.core.__path__[0]\n",
    "script_template_name = \"main.py.jinja\"\n",
    "core_template_name = \"honegumi.html.jinja\""
   ]
  },
  {
   "cell_type": "markdown",
   "id": "c189f384",
   "metadata": {},
   "source": [
    "## Initialize Honegumi\n",
    "\n",
    "Now we initialize the Honegumi optimizer with our templates."
   ]
  },
  {
   "cell_type": "code",
   "execution_count": null,
   "id": "e63e7e33",
   "metadata": {},
   "outputs": [],
   "source": [
    "# Initialize Honegumi\n",
    "hg = Honegumi(\n",
    "    cst,\n",
    "    option_rows,\n",
    "    script_template_dir=script_template_dir,\n",
    "    core_template_dir=core_template_dir,\n",
    "    script_template_name=script_template_name,\n",
    "    core_template_name=core_template_name,\n",
    ")"
   ]
  },
  {
   "cell_type": "markdown",
   "id": "0fcf7cf6",
   "metadata": {},
   "source": [
    "## Configure for OER Catalyst Optimization\n",
    "\n",
    "Based on the SDL1 use case requirements, we configure Honegumi with the following options:\n",
    "\n",
    "1. **Multi-objective**: To optimize for OER efficiency, catalyst durability, and cost simultaneously\n",
    "2. **Categorical parameters**: To handle electrolyte types (KOH, NaOH, H₂SO₄)\n",
    "3. **Sum constraint + Composition constraint**: To ensure metal fractions sum to 1\n",
    "4. **Custom threshold**: To enforce minimum performance criteria (e.g., overpotential < 180 mV)\n",
    "5. **Single synchrony**: To process one catalyst composition at a time"
   ]
  },
  {
   "cell_type": "code",
   "execution_count": null,
   "id": "eb6557cc",
   "metadata": {},
   "outputs": [],
   "source": [
    "# Configure for OER catalyst optimization\n",
    "options_model = hg.OptionsModel(\n",
    "    objective=\"multi\",               # For multiple KPIs (efficiency, durability, cost)\n",
    "    model=\"Default\",                 # Standard GP is suitable for this problem\n",
    "    task=\"Single\",                   # Single task optimization\n",
    "    categorical=True,                # For electrolyte type parameter\n",
    "    sum_constraint=True,             # For metal fractions summing to 1\n",
    "    order_constraint=False,          # No order constraints specified\n",
    "    linear_constraint=False,         # No linear constraints beyond composition\n",
    "    composition_constraint=True,     # Metal fractions must sum to 1\n",
    "    custom_threshold=True,           # For minimum performance criteria\n",
    "    existing_data=False,             # No historical data available\n",
    "    synchrony=\"Single\",              # Process one catalyst composition at a time\n",
    "    visualize=True                   # Helpful for tracking optimization progress\n",
    ")\n",
    "\n",
    "# Print the configured options for review\n",
    "print(\"Catalyst OER Optimization Configuration:\")\n",
    "pprint(options_model.model_dump())"
   ]
  },
  {
   "cell_type": "markdown",
   "id": "97ba5e4a",
   "metadata": {},
   "source": [
    "## Generate Optimization Script\n",
    "\n",
    "Now we generate the optimization script based on our configuration."
   ]
  },
  {
   "cell_type": "code",
   "execution_count": null,
   "id": "f5a88bf3",
   "metadata": {},
   "outputs": [],
   "source": [
    "# Generate the optimization script\n",
    "result = hg.generate(options_model)\n",
    "\n",
    "# Save to file\n",
    "script_name = \"oer_catalyst_optimization.py\"\n",
    "with open(script_name, \"w\") as f:\n",
    "    f.write(result)\n",
    "\n",
    "print(f\"\\nGenerated optimization script saved to {script_name}\")"
   ]
  },
  {
   "cell_type": "markdown",
   "id": "7dc17b08",
   "metadata": {},
   "source": [
    "## Customize the OER Problem Definition\n",
    "\n",
    "Below, we'll implement the specific parameters for our catalyst OER optimization problem."
   ]
  },
  {
   "cell_type": "code",
   "execution_count": null,
   "id": "b7d1419f",
   "metadata": {},
   "outputs": [],
   "source": [
    "import numpy as np\n",
    "from ax.service.ax_client import AxClient\n",
    "from ax.utils.measurement.synthetic_functions import branin\n",
    "from ax.utils.notebook.plotting import init_notebook_plotting, render\n",
    "\n",
    "# Initialize plotting for visualization\n",
    "init_notebook_plotting()\n",
    "\n",
    "# Create a new Ax client\n",
    "ax_client = AxClient()\n",
    "\n",
    "# Define the experiment\n",
    "ax_client.create_experiment(\n",
    "    name=\"oer_catalyst_optimization\",\n",
    "    parameters=[\n",
    "        # Metal composition parameters (fractions)\n",
    "        {\"name\": \"Ni\", \"type\": \"range\", \"bounds\": [0.0, 1.0]},\n",
    "        {\"name\": \"Fe\", \"type\": \"range\", \"bounds\": [0.0, 1.0]},\n",
    "        {\"name\": \"Co\", \"type\": \"range\", \"bounds\": [0.0, 1.0]},\n",
    "        {\"name\": \"Mn\", \"type\": \"range\", \"bounds\": [0.0, 1.0]},\n",
    "        {\"name\": \"Cr\", \"type\": \"range\", \"bounds\": [0.0, 1.0]},\n",
    "        {\"name\": \"Zn\", \"type\": \"range\", \"bounds\": [0.0, 1.0]},\n",
    "        {\"name\": \"Cu\", \"type\": \"range\", \"bounds\": [0.0, 1.0]},\n",
    "        \n",
    "        # Operating parameters\n",
    "        {\"name\": \"current_density\", \"type\": \"choice\", \"values\": [10, 50, 100, 200, 500, 1000]},\n",
    "        {\"name\": \"temperature\", \"type\": \"range\", \"bounds\": [20, 80]},\n",
    "        {\"name\": \"electrolyte_type\", \"type\": \"choice\", \"values\": [\"KOH\", \"NaOH\", \"H2SO4\"]},\n",
    "        {\"name\": \"electrolyte_pH\", \"type\": \"range\", \"bounds\": [1, 14]},\n",
    "        {\"name\": \"sonication\", \"type\": \"choice\", \"values\": [\"on\", \"off\"]}\n",
    "    ],\n",
    "    objectives={\n",
    "        \"oer_efficiency\": \"maximize\",  # Efficiency (inverse of overpotential)\n",
    "        \"durability\": \"maximize\",     # Hours without performance degradation\n",
    "        \"cost\": \"minimize\"            # Cost of catalyst materials\n",
    "    },\n",
    "    parameter_constraints=[\n",
    "        # Constraint: Metal fractions must sum to 1\n",
    "        \"Ni + Fe + Co + Mn + Cr + Zn + Cu <= 1.0\",\n",
    "        # Temperature constraint for scalability\n",
    "        \"temperature <= 80\"\n",
    "    ],\n",
    "    outcome_constraints=[\n",
    "        # Minimum performance criteria\n",
    "        \"oer_efficiency >= -180\",  # Overpotential less than 180 mV (negative because it's a cost)\n",
    "        \"durability >= 10\"         # At least 10 hours without significant degradation\n",
    "    ],\n",
    ")"
   ]
  },
  {
   "cell_type": "markdown",
   "id": "22fe89c9",
   "metadata": {},
   "source": [
    "## Define Evaluation Function\n",
    "\n",
    "For illustration purposes, we'll use a modified Branin function as a placeholder for your actual experimental evaluation. In a real-world scenario, this would be replaced with your laboratory testing or simulation function."
   ]
  },
  {
   "cell_type": "code",
   "execution_count": null,
   "id": "1f019574",
   "metadata": {},
   "outputs": [],
   "source": [
    "def evaluate_catalyst(parameters):\n",
    "    \"\"\"Evaluate the catalyst performance using synthetic functions.\n",
    "    In a real-world application, this function would interface with your\n",
    "    laboratory equipment or simulation software.\n",
    "    \"\"\"\n",
    "    # Extract parameters\n",
    "    x1 = parameters.get(\"Ni\", 0) + parameters.get(\"Fe\", 0) * 15  # Scale for branin\n",
    "    x2 = parameters.get(\"Co\", 0) + parameters.get(\"Mn\", 0) * 15  # Scale for branin\n",
    "    \n",
    "    # Use branin as a synthetic test function\n",
    "    # In reality, this would be your experimental measurement\n",
    "    base_performance = branin(x1, x2)\n",
    "    \n",
    "    # Adjust for additional parameters\n",
    "    temperature_factor = 1 - (parameters.get(\"temperature\", 20) - 20) / 100  # Higher temp = better efficiency\n",
    "    \n",
    "    # Electrolyte type affects performance\n",
    "    electrolyte_factor = {\n",
    "        \"KOH\": 1.0,   # Baseline\n",
    "        \"NaOH\": 0.9,  # 10% less efficient\n",
    "        \"H2SO4\": 1.2  # 20% more efficient for this simulation\n",
    "    }.get(parameters.get(\"electrolyte_type\", \"KOH\"), 1.0)\n",
    "    \n",
    "    # Current density affects efficiency\n",
    "    current_factor = 1 + np.log10(parameters.get(\"current_density\", 10) / 10) * 0.1\n",
    "    \n",
    "    # Calculate the three objectives\n",
    "    oer_efficiency = -base_performance * temperature_factor * electrolyte_factor * current_factor  \n",
    "    # Negative because lower overpotential is better, but we want to maximize\n",
    "    \n",
    "    # Durability calculation - inverse relationship with efficiency\n",
    "    # More efficient catalysts tend to be less durable in this simulation\n",
    "    durability = 20 - abs(oer_efficiency) * 0.05\n",
    "    \n",
    "    # Cost calculation based on metal composition\n",
    "    # Costs are arbitrary for this example (cost per unit)\n",
    "    metal_costs = {\n",
    "        \"Ni\": 10,\n",
    "        \"Fe\": 5,\n",
    "        \"Co\": 30,\n",
    "        \"Mn\": 8,\n",
    "        \"Cr\": 15,\n",
    "        \"Zn\": 7,\n",
    "        \"Cu\": 12\n",
    "    }\n",
    "    \n",
    "    cost = sum(parameters.get(metal, 0) * cost_value for metal, cost_value in metal_costs.items())\n",
    "    \n",
    "    return {\n",
    "        \"oer_efficiency\": oer_efficiency,  # Higher is better (negative overpotential)\n",
    "        \"durability\": durability,          # Hours of stable operation\n",
    "        \"cost\": cost                       # Lower is better\n",
    "    }"
   ]
  },
  {
   "cell_type": "markdown",
   "id": "324ed4c0",
   "metadata": {},
   "source": [
    "## Run Optimization\n",
    "\n",
    "Now let's run the optimization process. In your real-world application, you would perform the actual experiments for each suggested catalyst composition."
   ]
  },
  {
   "cell_type": "code",
   "execution_count": null,
   "id": "748ba082",
   "metadata": {},
   "outputs": [],
   "source": [
    "# Number of optimization iterations\n",
    "total_trials = 13  # As specified in your SDL1 document\n",
    "\n",
    "for i in range(total_trials):\n",
    "    # Get the next parameters to try\n",
    "    parameters, trial_index = ax_client.get_next_trial()\n",
    "    \n",
    "    # Normalize metal fractions to ensure they sum to 1\n",
    "    metals = [\"Ni\", \"Fe\", \"Co\", \"Mn\", \"Cr\", \"Zn\", \"Cu\"]\n",
    "    metal_sum = sum(parameters.get(metal, 0) for metal in metals)\n",
    "    \n",
    "    if metal_sum > 0:  # Avoid division by zero\n",
    "        for metal in metals:\n",
    "            if metal in parameters:\n",
    "                parameters[metal] = parameters[metal] / metal_sum\n",
    "    \n",
    "    # Evaluate the catalyst (in a real scenario, this would be your experiment)\n",
    "    results = evaluate_catalyst(parameters)\n",
    "    \n",
    "    # Log the results\n",
    "    ax_client.complete_trial(trial_index=trial_index, raw_data=results)\n",
    "    \n",
    "    print(f\"Trial {i+1}/{total_trials} completed\")\n",
    "    print(f\"Parameters: {parameters}\")\n",
    "    print(f\"Results: {results}\\n\")"
   ]
  },
  {
   "cell_type": "markdown",
   "id": "dfa31d39",
   "metadata": {},
   "source": [
    "## Analyze Results\n",
    "\n",
    "After optimization, we can examine the best catalyst compositions and their performance."
   ]
  },
  {
   "cell_type": "code",
   "execution_count": null,
   "id": "d77297e8",
   "metadata": {},
   "outputs": [],
   "source": [
    "# Get best parameters and values\n",
    "best_parameters, values = ax_client.get_best_parameters()\n",
    "\n",
    "print(\"Best catalyst composition:\")\n",
    "for param, value in best_parameters.items():\n",
    "    print(f\"{param}: {value}\")\n",
    "\n",
    "print(\"\\nPredicted performance:\")\n",
    "for metric, value in values.items():\n",
    "    print(f\"{metric}: {value}\")"
   ]
  },
  {
   "cell_type": "markdown",
   "id": "ffb1a9d4",
   "metadata": {},
   "source": [
    "## Visualization\n",
    "\n",
    "Finally, let's visualize the optimization process."
   ]
  },
  {
   "cell_type": "code",
   "execution_count": null,
   "id": "5053c740",
   "metadata": {},
   "outputs": [],
   "source": [
    "# Plot the optimization trace\n",
    "render(ax_client.get_optimization_trace())\n",
    "\n",
    "# For multi-objective optimization, visualize the Pareto frontier\n",
    "from ax.service.utils.report_utils import exp_to_df\n",
    "import plotly.graph_objects as go\n",
    "\n",
    "# Extract experiment data\n",
    "exp_df = exp_to_df(ax_client.experiment)\n",
    "\n",
    "# Create a 3D scatter plot for the three objectives\n",
    "fig = go.Figure(data=go.Scatter3d(\n",
    "    x=exp_df[\"oer_efficiency\"],\n",
    "    y=exp_df[\"durability\"],\n",
    "    z=exp_df[\"cost\"],\n",
    "    mode='markers',\n",
    "    marker=dict(\n",
    "        size=8,\n",
    "        color=exp_df.index,  # Color by trial index\n",
    "        colorscale='Viridis',\n",
    "        opacity=0.8\n",
    "    )\n",
    "))\n",
    "\n",
    "fig.update_layout(\n",
    "    title='OER Catalyst Optimization - 3D Pareto Front',\n",
    "    scene=dict(\n",
    "        xaxis_title='OER Efficiency (higher is better)',\n",
    "        yaxis_title='Durability (hours)',\n",
    "        zaxis_title='Cost (lower is better)'\n",
    "    ),\n",
    "    width=800,\n",
    "    height=800\n",
    ")\n",
    "\n",
    "fig.show()"
   ]
  },
  {
   "cell_type": "markdown",
   "id": "25a024cc",
   "metadata": {},
   "source": [
    "## Conclusion\n",
    "\n",
    "This notebook demonstrates how to use Honegumi for catalyst OER efficiency optimization with the following characteristics:\n",
    "\n",
    "1. **Multi-objective optimization**: Balancing efficiency, durability, and cost\n",
    "2. **Compositional constraint**: Ensuring metal fractions sum to 1\n",
    "3. **Categorical parameters**: Handling different electrolyte types\n",
    "4. **Custom thresholds**: Enforcing minimum performance criteria\n",
    "\n",
    "In a real-world application, you would replace the synthetic evaluation function with your actual experimental protocol."
   ]
  }
 ],
 "metadata": {
  "language_info": {
   "name": "python"
  }
 },
 "nbformat": 4,
 "nbformat_minor": 5
}
